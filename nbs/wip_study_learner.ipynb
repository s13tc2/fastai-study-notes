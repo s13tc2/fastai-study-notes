{
 "cells": [
  {
   "cell_type": "code",
   "execution_count": 1,
   "id": "0c900af8-ea07-4837-bb6c-6b9e5457bdf0",
   "metadata": {},
   "outputs": [
    {
     "name": "stderr",
     "output_type": "stream",
     "text": [
      "/home/atcolab/mambaforge/lib/python3.9/site-packages/torch/cuda/__init__.py:83: UserWarning: CUDA initialization: CUDA unknown error - this may be due to an incorrectly set up environment, e.g. changing env variable CUDA_VISIBLE_DEVICES after program start. Setting the available devices to be zero. (Triggered internally at  /opt/conda/conda-bld/pytorch_1656352616446/work/c10/cuda/CUDAFunctions.cpp:109.)\n",
      "  return torch._C._cuda_getDeviceCount() > 0\n"
     ]
    }
   ],
   "source": [
    "import os\n",
    "import sys\n",
    "import math\n",
    "import copy\n",
    "import shutil\n",
    "import logging\n",
    "from tqdm import tqdm\n",
    "from contextlib import contextmanager\n",
    "from copy import copy\n",
    "from functools import partial\n",
    "from operator import attrgetter\n",
    "from operator import itemgetter\n",
    "from collections.abc import Mapping\n",
    "import fastcore.all as fc\n",
    "from fastcore.test import test_close\n",
    "import numpy as np\n",
    "import pandas as pd\n",
    "import matplotlib as mpl\n",
    "import matplotlib.pyplot as plt\n",
    "from fastprogress import progress_bar,master_bar\n",
    "\n",
    "import torch\n",
    "from torch import optim\n",
    "from torch import nn, tensor\n",
    "import torch.nn.functional as F\n",
    "from torch.utils.data import default_collate\n",
    "import torchvision.transforms.functional as TF\n",
    "from torch.utils.data import DataLoader, SequentialSampler, RandomSampler, BatchSampler\n",
    "from datasets import load_dataset, load_dataset_builder"
   ]
  },
  {
   "cell_type": "code",
   "execution_count": 2,
   "id": "8f2b854b-8dc7-425c-8d46-ae10f6f99f6e",
   "metadata": {},
   "outputs": [
    {
     "data": {
      "text/plain": [
       "<torch._C.Generator at 0x7fe73c036b30>"
      ]
     },
     "execution_count": 2,
     "metadata": {},
     "output_type": "execute_result"
    }
   ],
   "source": [
    "torch.set_printoptions(precision=2, linewidth=140, sci_mode=False)\n",
    "torch.manual_seed(1)"
   ]
  },
  {
   "cell_type": "code",
   "execution_count": 3,
   "id": "594c0fe8-84f8-48a6-a07c-f1f25232e15d",
   "metadata": {},
   "outputs": [],
   "source": [
    "logging.disable(logging.WARNING)"
   ]
  },
  {
   "cell_type": "code",
   "execution_count": 4,
   "id": "e4a8a9ae-9c67-4027-b37a-e2b55bfbcaff",
   "metadata": {},
   "outputs": [
    {
     "data": {
      "application/json": {
       "ascii": false,
       "bar_format": null,
       "colour": null,
       "elapsed": 0.01149296760559082,
       "initial": 0,
       "n": 0,
       "ncols": null,
       "nrows": 24,
       "postfix": null,
       "prefix": "",
       "rate": null,
       "total": 2,
       "unit": "it",
       "unit_divisor": 1000,
       "unit_scale": false
      },
      "application/vnd.jupyter.widget-view+json": {
       "model_id": "53803ccaa8ea46728f6a00efeea79958",
       "version_major": 2,
       "version_minor": 0
      },
      "text/plain": [
       "  0%|          | 0/2 [00:00<?, ?it/s]"
      ]
     },
     "metadata": {},
     "output_type": "display_data"
    }
   ],
   "source": [
    "x,y = 'image', 'label'\n",
    "name = 'fashion_mnist'\n",
    "dsd = load_dataset(name)"
   ]
  },
  {
   "cell_type": "markdown",
   "id": "f0d3afc1-ab46-4cd9-ad90-1a5b1c687c18",
   "metadata": {},
   "source": [
    "`decorator`\n",
    "\n",
    "- we pass in a function \n",
    "- the function we passed in is called inside another function"
   ]
  },
  {
   "cell_type": "code",
   "execution_count": 5,
   "id": "fdbe0109-f3a4-47f3-82c0-c1fb2e3baa38",
   "metadata": {},
   "outputs": [],
   "source": [
    "def inplace(f):\n",
    "    def _f(b):\n",
    "        f(b)\n",
    "        return b\n",
    "    return _f\n",
    "\n",
    "@inplace\n",
    "def transformi(b): b[x] = [torch.flatten(TF.to_tensor(o)) for o in b[x]]\n",
    "    \n",
    "bs = 1024\n",
    "tds = dsd.with_transform(transformi)"
   ]
  },
  {
   "cell_type": "code",
   "execution_count": 6,
   "id": "0f238666-5992-4a13-a0bd-da3fd33aa9e2",
   "metadata": {},
   "outputs": [],
   "source": [
    "# dsd.with_transform?"
   ]
  },
  {
   "cell_type": "code",
   "execution_count": 7,
   "id": "c1385f05-c852-4b4c-bc51-0c25b952f465",
   "metadata": {},
   "outputs": [],
   "source": [
    "def collate_dict(ds):\n",
    "    get = itemgetter(*ds.features)\n",
    "    def _f(b): return get(default_collate(b))\n",
    "    return _f\n",
    "\n",
    "def get_dls(train_ds, valid_ds, bs, **kwargs):\n",
    "    return (DataLoader(train_ds, batch_size=bs, shuffle=True, **kwargs),\n",
    "            DataLoader(valid_ds, batch_size=2*bs, **kwargs))"
   ]
  },
  {
   "cell_type": "code",
   "execution_count": 8,
   "id": "43075015-dfb8-41dd-8b86-d2f2bfba69a5",
   "metadata": {},
   "outputs": [],
   "source": [
    "class DataLoaders:\n",
    "    def __init__(self, *dls):\n",
    "        self.train, self.valid = dls[:2]\n",
    "    \n",
    "    @classmethod\n",
    "    def from_dd(cls, dd, batch_size, as_tuple=True, **kwargs):\n",
    "        f = collate_dict(dd['train'])\n",
    "        return cls(*get_dls(*dd.values(), bs=batch_size, collate_fn=f))"
   ]
  },
  {
   "cell_type": "code",
   "execution_count": 9,
   "id": "820e7a7b-488b-4e1d-bb33-62d6efc41b9d",
   "metadata": {},
   "outputs": [],
   "source": [
    "one, two = tds['train'][0], tds['train'][1]"
   ]
  },
  {
   "cell_type": "markdown",
   "id": "ec5f9457-83a5-40eb-a03b-c2ae5a890d28",
   "metadata": {},
   "source": [
    "what `default_collate` does is separate the image and labels into respective groups\n",
    "\n",
    "- so `{'image': imgs, label: tensor([9, 0])}`"
   ]
  },
  {
   "cell_type": "code",
   "execution_count": 10,
   "id": "368c9e1c-2ffb-4d45-acfe-108cfa6b4727",
   "metadata": {},
   "outputs": [],
   "source": [
    "ret = default_collate([one, two])"
   ]
  },
  {
   "cell_type": "code",
   "execution_count": 11,
   "id": "47f07c62-8d93-49cc-a055-5635fa7b1c00",
   "metadata": {},
   "outputs": [
    {
     "data": {
      "text/plain": [
       "{'image': tensor([[0., 0., 0.,  ..., 0., 0., 0.],\n",
       "         [0., 0., 0.,  ..., 0., 0., 0.]]),\n",
       " 'label': tensor([9, 0])}"
      ]
     },
     "execution_count": 11,
     "metadata": {},
     "output_type": "execute_result"
    }
   ],
   "source": [
    "ret"
   ]
  },
  {
   "cell_type": "markdown",
   "id": "82265c0d-7499-4bf8-8c49-dc7426ad8abe",
   "metadata": {},
   "source": [
    "looks like `itemgetter` grabs the unique items"
   ]
  },
  {
   "cell_type": "code",
   "execution_count": 12,
   "id": "2489df0c-df9f-4e65-ba8f-bc56438b5a2b",
   "metadata": {},
   "outputs": [],
   "source": [
    "get = itemgetter(tds['train'].features)"
   ]
  },
  {
   "cell_type": "code",
   "execution_count": 13,
   "id": "51a0c423-c4a6-4a8e-a52b-7bf93741f4a4",
   "metadata": {},
   "outputs": [
    {
     "data": {
      "text/plain": [
       "{'image': Image(decode=True, id=None),\n",
       " 'label': ClassLabel(num_classes=10, names=['T - shirt / top', 'Trouser', 'Pullover', 'Dress', 'Coat', 'Sandal', 'Shirt', 'Sneaker', 'Bag', 'Ankle boot'], id=None)}"
      ]
     },
     "execution_count": 13,
     "metadata": {},
     "output_type": "execute_result"
    }
   ],
   "source": [
    "tds['train'].features"
   ]
  },
  {
   "cell_type": "code",
   "execution_count": 14,
   "id": "44be2336-8876-40ec-aaa5-e4c82fe3c6ba",
   "metadata": {},
   "outputs": [
    {
     "data": {
      "text/plain": [
       "operator.itemgetter({'image': Image(decode=True, id=None), 'label': ClassLabel(num_classes=10, names=['T - shirt / top', 'Trouser', 'Pullover', 'Dress', 'Coat', 'Sandal', 'Shirt', 'Sneaker', 'Bag', 'Ankle boot'], id=None)})"
      ]
     },
     "execution_count": 14,
     "metadata": {},
     "output_type": "execute_result"
    }
   ],
   "source": [
    "get"
   ]
  },
  {
   "cell_type": "markdown",
   "id": "72d79647-cffe-4c00-9491-65520ea86636",
   "metadata": {},
   "source": [
    "dataset is within dictionary"
   ]
  },
  {
   "cell_type": "code",
   "execution_count": 15,
   "id": "e92d173a-32c7-4e6b-a6c3-fc2b31344f92",
   "metadata": {},
   "outputs": [
    {
     "data": {
      "text/plain": [
       "dict_values([Dataset({\n",
       "    features: ['image', 'label'],\n",
       "    num_rows: 60000\n",
       "}), Dataset({\n",
       "    features: ['image', 'label'],\n",
       "    num_rows: 10000\n",
       "})])"
      ]
     },
     "execution_count": 15,
     "metadata": {},
     "output_type": "execute_result"
    }
   ],
   "source": [
    "tds.values()"
   ]
  },
  {
   "cell_type": "markdown",
   "id": "f9365b2b-1692-4c6e-bc80-6dbb6a6f4d3c",
   "metadata": {},
   "source": [
    "what is the `*` used for?\n",
    "\n",
    "- `*` is used to unpack a collection of elements into seperate positional args"
   ]
  },
  {
   "cell_type": "code",
   "execution_count": 16,
   "id": "87d29230-e27f-40bc-adec-ed6c009838d4",
   "metadata": {},
   "outputs": [
    {
     "name": "stdout",
     "output_type": "stream",
     "text": [
      "6\n"
     ]
    }
   ],
   "source": [
    "def add(a,b,c):\n",
    "    return a+b+c\n",
    "\n",
    "nums = [1,2,3]\n",
    "print(add(*nums))"
   ]
  },
  {
   "cell_type": "code",
   "execution_count": 17,
   "id": "fd40c9e9-45f0-4eb5-bab0-77037b8be90b",
   "metadata": {},
   "outputs": [
    {
     "data": {
      "text/plain": [
       "(torch.Size([1024, 784]), tensor([5, 4, 9, 4, 3, 0, 6, 5, 7, 6]))"
      ]
     },
     "execution_count": 17,
     "metadata": {},
     "output_type": "execute_result"
    }
   ],
   "source": [
    "dls = DataLoaders.from_dd(tds, bs, num_workers=4)\n",
    "dt = dls.train\n",
    "xb,yb = next(iter(dt))\n",
    "xb.shape, yb[:10]"
   ]
  },
  {
   "cell_type": "code",
   "execution_count": 18,
   "id": "d84e851c-b6f3-4733-87b6-45072607f31c",
   "metadata": {},
   "outputs": [],
   "source": [
    "def_device = 'mps' if torch.backends.mps.is_available() else 'cuda' if torch.cuda.is_available() else 'cpu'\n",
    "\n",
    "def to_device(x, device=def_device):\n",
    "    if isinstance(x, torch.Tensor): return x.to(device)\n",
    "    if isinstance(x, Mapping): return {k:v.to(device) for k,v in x.items()}\n",
    "    return type(x)(to_device(o, device) for o in x)\n",
    "\n",
    "def collate_device(b): return to_device(default_collate(b))"
   ]
  },
  {
   "cell_type": "markdown",
   "id": "4b0b30ce-bfad-433d-b1e3-ac0a1d6f3b8b",
   "metadata": {},
   "source": [
    "what is `fc.store_attr`?"
   ]
  },
  {
   "cell_type": "code",
   "execution_count": 19,
   "id": "1e35d5e6-c206-4eff-bef1-38948e55e105",
   "metadata": {},
   "outputs": [
    {
     "data": {
      "text/plain": [
       "\u001b[0;31mSignature:\u001b[0m\n",
       "\u001b[0mfc\u001b[0m\u001b[0;34m.\u001b[0m\u001b[0mstore_attr\u001b[0m\u001b[0;34m(\u001b[0m\u001b[0;34m\u001b[0m\n",
       "\u001b[0;34m\u001b[0m    \u001b[0mnames\u001b[0m\u001b[0;34m=\u001b[0m\u001b[0;32mNone\u001b[0m\u001b[0;34m,\u001b[0m\u001b[0;34m\u001b[0m\n",
       "\u001b[0;34m\u001b[0m    \u001b[0mself\u001b[0m\u001b[0;34m=\u001b[0m\u001b[0;32mNone\u001b[0m\u001b[0;34m,\u001b[0m\u001b[0;34m\u001b[0m\n",
       "\u001b[0;34m\u001b[0m    \u001b[0mbut\u001b[0m\u001b[0;34m=\u001b[0m\u001b[0;34m''\u001b[0m\u001b[0;34m,\u001b[0m\u001b[0;34m\u001b[0m\n",
       "\u001b[0;34m\u001b[0m    \u001b[0mcast\u001b[0m\u001b[0;34m=\u001b[0m\u001b[0;32mFalse\u001b[0m\u001b[0;34m,\u001b[0m\u001b[0;34m\u001b[0m\n",
       "\u001b[0;34m\u001b[0m    \u001b[0mstore_args\u001b[0m\u001b[0;34m=\u001b[0m\u001b[0;32mNone\u001b[0m\u001b[0;34m,\u001b[0m\u001b[0;34m\u001b[0m\n",
       "\u001b[0;34m\u001b[0m    \u001b[0;34m**\u001b[0m\u001b[0mattrs\u001b[0m\u001b[0;34m,\u001b[0m\u001b[0;34m\u001b[0m\n",
       "\u001b[0;34m\u001b[0m\u001b[0;34m)\u001b[0m\u001b[0;34m\u001b[0m\u001b[0;34m\u001b[0m\u001b[0m\n",
       "\u001b[0;31mDocstring:\u001b[0m Store params named in comma-separated `names` from calling context into attrs in `self`\n",
       "\u001b[0;31mFile:\u001b[0m      ~/mambaforge/lib/python3.9/site-packages/fastcore/basics.py\n",
       "\u001b[0;31mType:\u001b[0m      function\n"
      ]
     },
     "metadata": {},
     "output_type": "display_data"
    }
   ],
   "source": [
    "fc.store_attr?"
   ]
  },
  {
   "cell_type": "code",
   "execution_count": 20,
   "id": "8adeadf1-79ff-4ee8-827d-d688d2b62e1d",
   "metadata": {},
   "outputs": [],
   "source": [
    "class Learner:\n",
    "    def __init__(self, model, dls, loss_func, lr, opt_func=optim.SGD):\n",
    "        fc.store_attr()\n",
    "    \n",
    "    def one_batch(self):\n",
    "        self.xb, self.yb = to_device(self.batch)\n",
    "        self.preds = self.model(self.xb)\n",
    "        self.loss = self.loss_func(self.preds, self.yb)\n",
    "        if self.model.training:\n",
    "            self.loss.backward()\n",
    "            self.opt.step()\n",
    "            self.opt.zero_grad()\n",
    "        with torch.no_grad(): self.calc_stats()\n",
    "    \n",
    "    def calc_stats(self):\n",
    "        acc = (self.preds.argmax(dim=1)==self.yb).float().sum()\n",
    "        self.accs.append(acc)\n",
    "        n = len(self.xb)\n",
    "        self.losses.append(self.loss*n)\n",
    "        self.ns.append(n)\n",
    "    \n",
    "    def one_epoch(self, train):\n",
    "        self.model.training = train\n",
    "        dl = self.dls.train if train else self.dls.valid\n",
    "        for self.num, self.batch in enumerate(dl):\n",
    "            self.one_batch()\n",
    "        n = sum(self.ns)\n",
    "        print(f'Epoch: {self.epoch+1} | isTraining: {self.model.training} | Loss: {sum(self.losses).item()/n} | Accuracy: {sum(self.accs).item()/n}')\n",
    "    \n",
    "    def fit(self, n_epochs):\n",
    "        self.accs, self.losses, self.ns = [], [], []\n",
    "        self.model.to(def_device)\n",
    "        self.opt = self.opt_func(self.model.parameters(), self.lr)\n",
    "        self.n_epochs = n_epochs\n",
    "        for self.epoch in range(n_epochs):\n",
    "            self.one_epoch(True)\n",
    "            with torch.no_grad():\n",
    "                self.one_epoch(False)"
   ]
  },
  {
   "cell_type": "code",
   "execution_count": 21,
   "id": "39156de5-8887-4669-807b-5e1c45e16f1a",
   "metadata": {},
   "outputs": [],
   "source": [
    "m, nh = 28 * 28, 50\n",
    "model = nn.Sequential(nn.Linear(m, nh), nn.ReLU(), nn.Linear(nh, 10))"
   ]
  },
  {
   "cell_type": "code",
   "execution_count": 22,
   "id": "c9834ff2-b74d-422e-9396-2fe2ccc1d74d",
   "metadata": {},
   "outputs": [
    {
     "name": "stdout",
     "output_type": "stream",
     "text": [
      "Epoch: 1 | isTraining: True | Loss: 1.1753045572916667 | Accuracy: 0.5986833333333333\n",
      "Epoch: 1 | isTraining: False | Loss: 1.12032890625 | Accuracy: 0.6135285714285714\n"
     ]
    }
   ],
   "source": [
    "learn = Learner(model, dls, F.cross_entropy, lr=0.2)\n",
    "learn.fit(1)"
   ]
  },
  {
   "cell_type": "markdown",
   "id": "18a59577-5883-4c55-9401-4a78471c1986",
   "metadata": {},
   "source": [
    "# Basic Callbacks Learner"
   ]
  },
  {
   "cell_type": "code",
   "execution_count": null,
   "id": "cf9d94c2-597e-43e4-b10c-1290408e236f",
   "metadata": {},
   "outputs": [],
   "source": [
    "class CancelFitException(Exception): pass\n",
    "class CancelBatchException(Exception): pass\n",
    "class CancelEpochException(Exception): pass"
   ]
  },
  {
   "cell_type": "code",
   "execution_count": 24,
   "id": "6496e743-6e2d-46c9-898f-2678a823f610",
   "metadata": {},
   "outputs": [],
   "source": [
    "class Callback(): order = 0"
   ]
  },
  {
   "cell_type": "code",
   "execution_count": 25,
   "id": "9afe4c5c-2d85-4639-a221-b2cf998ded20",
   "metadata": {},
   "outputs": [],
   "source": [
    "def run_cbs(cbs, method_nm, learn=None):\n",
    "    for cb in sorted(cbs, key=attrgetter('order')):\n",
    "        method = getattr(cb, method_nm, None)\n",
    "        if method is not None: method(learn)"
   ]
  },
  {
   "cell_type": "code",
   "execution_count": 26,
   "id": "0df0f8a0-446a-4c6d-a2e1-c44d832424d2",
   "metadata": {},
   "outputs": [],
   "source": [
    "class CompletionCB(Callback):\n",
    "    def before_fit(self, learn):\n",
    "        self.count = 0\n",
    "    def after_batch(self, learn):\n",
    "        self.count += 1\n",
    "    def after_fit(self, learn):\n",
    "        print(f'Completed {self.count} batches')"
   ]
  },
  {
   "cell_type": "code",
   "execution_count": 27,
   "id": "41773c73-c32b-465a-87a8-3608f6e459b8",
   "metadata": {},
   "outputs": [
    {
     "name": "stdout",
     "output_type": "stream",
     "text": [
      "Completed 1 batches\n"
     ]
    }
   ],
   "source": [
    "cbs = [CompletionCB()]\n",
    "run_cbs(cbs, 'before_fit')\n",
    "run_cbs(cbs, 'after_batch')\n",
    "run_cbs(cbs, 'after_fit')"
   ]
  },
  {
   "cell_type": "markdown",
   "id": "a214a939-e382-4183-9225-f7a452d24c27",
   "metadata": {},
   "source": [
    "Modify `CompletionCB` to also record total epochs"
   ]
  },
  {
   "cell_type": "code",
   "execution_count": 28,
   "id": "58278667-e229-4d25-a809-13e3daa1f03d",
   "metadata": {},
   "outputs": [],
   "source": [
    "# class CompletionCB(Callback):\n",
    "#     def before_fit(self, learn):\n",
    "#         self.count = 0\n",
    "#     def after_batch(self, learn):\n",
    "#         self.count += 1\n",
    "#     def before_epoch(self, learn):\n",
    "#         self.epoch_count = 0\n",
    "#     def after_epoch(self, learn):\n",
    "#         self.epoch_count += 1\n",
    "#     def after_fit(self, learn):\n",
    "#         print(f'Completed {self.count} batches')    \n",
    "\n",
    "class CompletionCB(Callback):\n",
    "    def before_fit(self, learn):\n",
    "        self.batch_count = 0\n",
    "        self.epoch_count = 0\n",
    "        \n",
    "    def after_batch(self, learn):\n",
    "        self.batch_count += 1\n",
    "        \n",
    "    def before_epoch(self, learn):\n",
    "        pass\n",
    "        \n",
    "    def after_epoch(self, learn):\n",
    "        self.epoch_count += 1\n",
    "        \n",
    "    def after_fit(self, learn):\n",
    "        print(f'Completed {self.batch_count} batches over {self.epoch_count // 2} epochs')"
   ]
  },
  {
   "cell_type": "code",
   "execution_count": 29,
   "id": "e24cbd8a-3bdd-4f9f-a90a-43b71818ddf3",
   "metadata": {},
   "outputs": [],
   "source": [
    "class Learner():\n",
    "    def __init__(self, model, dls, loss_func, lr, cbs, opt_func=optim.SGD):\n",
    "        fc.store_attr()\n",
    "    \n",
    "    def one_batch(self):\n",
    "        self.preds = self.model(self.batch[0])\n",
    "        self.loss = self.loss_func(self.preds, self.batch[1])\n",
    "        if self.model.training:\n",
    "            self.loss.backward()\n",
    "            self.opt.step()\n",
    "            self.opt.zero_grad()\n",
    "    \n",
    "    def one_epoch(self, train):\n",
    "        self.model.train(train)\n",
    "        self.dl = self.dls.train if train else self.dls.valid\n",
    "        try:\n",
    "            self.callback('before_epoch')\n",
    "            for self.iter, self.batch in tqdm(enumerate(self.dl), total=len(self.dl)):\n",
    "                try:\n",
    "                    self.callback('before_batch')\n",
    "                    self.one_batch()\n",
    "                    self.callback('after_batch')\n",
    "                except CancelBatchException: pass\n",
    "            self.callback('after_epoch')\n",
    "        except CancelEpochException: pass\n",
    "\n",
    "    def fit(self, n_epochs):\n",
    "        self.n_epochs = n_epochs\n",
    "        self.epochs = range(n_epochs)\n",
    "        self.opt = self.opt_func(self.model.parameters(), self.lr)\n",
    "        try:\n",
    "            self.callback('before_fit')\n",
    "            for self.epoch in self.epochs:\n",
    "                self.one_epoch(True)\n",
    "                self.one_epoch(False)\n",
    "            self.callback('after_fit')\n",
    "        except CancelFitException: pass\n",
    "\n",
    "    def callback(self, method_nm): run_cbs(self.cbs, method_nm, self)"
   ]
  },
  {
   "cell_type": "code",
   "execution_count": 30,
   "id": "78a87db5-1997-4068-b816-010362b951a4",
   "metadata": {},
   "outputs": [],
   "source": [
    "m, nh = 28*28, 50\n",
    "def get_model(): return nn.Sequential(nn.Linear(m, nh), nn.ReLU(), nn.Linear(nh, 10))"
   ]
  },
  {
   "cell_type": "code",
   "execution_count": 31,
   "id": "6ad88461-c6d6-4579-94f0-36a476eb1338",
   "metadata": {},
   "outputs": [
    {
     "name": "stderr",
     "output_type": "stream",
     "text": [
      "100%|███████████████████████████████████████████| 59/59 [00:12<00:00,  4.84it/s]\n",
      "100%|█████████████████████████████████████████████| 5/5 [00:02<00:00,  2.26it/s]\n",
      "100%|███████████████████████████████████████████| 59/59 [00:12<00:00,  4.83it/s]\n",
      "100%|█████████████████████████████████████████████| 5/5 [00:02<00:00,  2.38it/s]"
     ]
    },
    {
     "name": "stdout",
     "output_type": "stream",
     "text": [
      "Completed 128 batches over 2 epochs\n"
     ]
    },
    {
     "name": "stderr",
     "output_type": "stream",
     "text": [
      "\n"
     ]
    }
   ],
   "source": [
    "model = get_model()\n",
    "learn = Learner(model, dls, F.cross_entropy, lr=0.2, cbs=[CompletionCB()])\n",
    "learn.fit(2)"
   ]
  },
  {
   "cell_type": "code",
   "execution_count": 32,
   "id": "857f48af-a5d0-4fa5-ab49-e6b809263c35",
   "metadata": {},
   "outputs": [],
   "source": [
    "class SingleBatchCB(Callback):\n",
    "    order = 1\n",
    "    def after_batch(self, learn): raise CancelFitException()"
   ]
  },
  {
   "cell_type": "code",
   "execution_count": 33,
   "id": "d20128f1-9aa0-452d-bbac-8960d51db9a8",
   "metadata": {},
   "outputs": [],
   "source": [
    "learn = Learner(get_model(), dls, F.cross_entropy, lr=0.2, cbs=[SingleBatchCB(), CompletionCB()])"
   ]
  },
  {
   "cell_type": "code",
   "execution_count": 34,
   "id": "0457acd9-39a0-44f2-9369-e8868c25969e",
   "metadata": {},
   "outputs": [
    {
     "name": "stderr",
     "output_type": "stream",
     "text": [
      "  0%|                                                    | 0/59 [00:00<?, ?it/s]\n"
     ]
    }
   ],
   "source": [
    "learn.fit(1)"
   ]
  },
  {
   "cell_type": "markdown",
   "id": "9495637a-a180-4fdf-8e2b-38a2176c76a2",
   "metadata": {},
   "source": [
    "# Metrics"
   ]
  },
  {
   "cell_type": "code",
   "execution_count": 35,
   "id": "2e90d757-44df-4759-86b0-5ca857567d10",
   "metadata": {},
   "outputs": [],
   "source": [
    "class Metric:\n",
    "    def __init__(self):\n",
    "        self.reset()\n",
    "    \n",
    "    def reset(self):\n",
    "        self.vals, self.ns = [], []\n",
    "    \n",
    "    def add(self, inp, targ=None, n=1):\n",
    "        self.last = self.calc(inp, targ)\n",
    "        self.vals.append(self.last)\n",
    "        self.ns.append(n)\n",
    "    \n",
    "    @property\n",
    "    def value(self):\n",
    "        ns = tensor(self.ns)\n",
    "        return (tensor(self.vals)*ns).sum()/ns.sum()\n",
    "    \n",
    "    def calc(self, inps, targs): return inps"
   ]
  },
  {
   "cell_type": "code",
   "execution_count": 36,
   "id": "ff40640e-0a05-422f-a1a7-31ded20ce10b",
   "metadata": {},
   "outputs": [],
   "source": [
    "class Accuracy(Metric):\n",
    "    def calc(self, inps, targs):\n",
    "        return (inps==targs).float().mean()"
   ]
  },
  {
   "cell_type": "code",
   "execution_count": 37,
   "id": "53533e9e-bfcc-44bb-9bfd-0baad3fa1a0d",
   "metadata": {},
   "outputs": [],
   "source": [
    "acc = Accuracy()\n",
    "acc.add(tensor([0, 1, 2, 0, 1, 2]), tensor([0, 1, 1, 2, 1, 0]))\n",
    "acc.add(tensor([1, 1, 2, 0, 1]), tensor([0, 1, 1, 2, 1]))"
   ]
  },
  {
   "cell_type": "code",
   "execution_count": 38,
   "id": "fac2c8e0-bd09-4c4f-9fde-0f95f2e4ac6d",
   "metadata": {},
   "outputs": [
    {
     "data": {
      "text/plain": [
       "tensor(0.45)"
      ]
     },
     "execution_count": 38,
     "metadata": {},
     "output_type": "execute_result"
    }
   ],
   "source": [
    "acc.value"
   ]
  },
  {
   "cell_type": "code",
   "execution_count": 39,
   "id": "1e1335b8-9aaf-4131-a291-78cf021144aa",
   "metadata": {},
   "outputs": [
    {
     "data": {
      "text/plain": [
       "(tensor(0.62), 0.62)"
      ]
     },
     "execution_count": 39,
     "metadata": {},
     "output_type": "execute_result"
    }
   ],
   "source": [
    "loss = Metric()\n",
    "loss.add(0.6, n=32)\n",
    "loss.add(0.9, n=2)\n",
    "loss.value, round((0.6*32+0.9*2)/(32+2), 2)"
   ]
  },
  {
   "cell_type": "markdown",
   "id": "a431257c-6c6c-4357-bdd8-0801a2826bb8",
   "metadata": {},
   "source": [
    "# Some Callbacks"
   ]
  },
  {
   "cell_type": "code",
   "execution_count": 40,
   "id": "be79dab1-43b9-4858-9df2-0352d2e0dfdc",
   "metadata": {},
   "outputs": [],
   "source": [
    "from torcheval.metrics import MulticlassAccuracy, Mean"
   ]
  },
  {
   "cell_type": "code",
   "execution_count": 41,
   "id": "0685a202-e890-4562-a397-f61c5377c04f",
   "metadata": {},
   "outputs": [
    {
     "data": {
      "text/plain": [
       "<torcheval.metrics.classification.accuracy.MulticlassAccuracy at 0x7fe6d00828e0>"
      ]
     },
     "execution_count": 41,
     "metadata": {},
     "output_type": "execute_result"
    }
   ],
   "source": [
    "metric = MulticlassAccuracy()\n",
    "metric.update(tensor([0,2,1,3]), tensor([0,1,2,3]))"
   ]
  },
  {
   "cell_type": "code",
   "execution_count": 42,
   "id": "e4320d39-99af-4079-a09d-f3299e480458",
   "metadata": {},
   "outputs": [
    {
     "data": {
      "text/plain": [
       "tensor(0.50)"
      ]
     },
     "execution_count": 42,
     "metadata": {},
     "output_type": "execute_result"
    }
   ],
   "source": [
    "metric.compute()"
   ]
  },
  {
   "cell_type": "code",
   "execution_count": 43,
   "id": "eb0b0c6b-0efb-4249-b9ef-bb6f70a24318",
   "metadata": {},
   "outputs": [
    {
     "data": {
      "text/plain": [
       "tensor(nan)"
      ]
     },
     "execution_count": 43,
     "metadata": {},
     "output_type": "execute_result"
    }
   ],
   "source": [
    "metric.reset()\n",
    "metric.compute()"
   ]
  },
  {
   "cell_type": "code",
   "execution_count": 44,
   "id": "9e50e485-4c5a-48eb-977d-2b51534f76b8",
   "metadata": {},
   "outputs": [],
   "source": [
    "def to_cpu(x):\n",
    "    if isinstance(x, Mapping): return {k:to_cpu(v) for k,v in x.items()}\n",
    "    if isinstance(x, list): return [to_cpu(o) for o in x]\n",
    "    if isinstance(x, tuple): return tuple(to_cpu(list(x)))\n",
    "    return x.detach().cpu()"
   ]
  },
  {
   "cell_type": "markdown",
   "id": "8ddab071-baf7-45ce-8832-3143bd0f1590",
   "metadata": {},
   "source": [
    "`*args` vs. `**kwargs`\n",
    "\n",
    "- `*args` is used to pass a variable number of positional arguments, which are then packed into a `tuple`. In a function definitino, `*args` is used to define a parameter that will accept ANY NUMBER OF POSITIONAL ARGUMENTS PASSED TO THE FUNCTION.\n",
    "\n",
    "- `**kwargs` is used to pass a variable number of keyword arguments which are then packed into a `dictionary`. In a function definition, `**kwargs` is used to define a parameter that will accept ANY NUMBER OF POSITONAL KEYWORD ARGUEMENTS PASSED TO THE FUNCTION."
   ]
  },
  {
   "cell_type": "code",
   "execution_count": 45,
   "id": "c0605ee0-f2ad-440a-88ae-6155310d275d",
   "metadata": {},
   "outputs": [
    {
     "name": "stdout",
     "output_type": "stream",
     "text": [
      "*args:  (1, 2, 3)\n",
      "**kwargs:  {'a': 4, 'b': 5}\n"
     ]
    }
   ],
   "source": [
    "def foo(*args, **kwargs):\n",
    "    print('*args: ', args)\n",
    "    print('**kwargs: ', kwargs)\n",
    "    \n",
    "foo(1,2,3,a=4,b=5)"
   ]
  },
  {
   "cell_type": "markdown",
   "id": "7ba38bb6-b4ac-4048-b3dc-b6cd1b321a2b",
   "metadata": {},
   "source": [
    "what is `**metrics`?\n",
    "\n",
    "- `**metrics` is the same as `**kwargs` \n",
    "- In Python, the syntax `**metrics` in a function or method parameters list means that the parameter is a variable-length keyword argument that accepts a dictionary of named arguments.\n",
    "- `**metrics` appears as a catch-all parameter that accepts any number of keyword arguments"
   ]
  },
  {
   "cell_type": "markdown",
   "id": "725f2d7b-4725-4a8b-a69d-dc6753405e08",
   "metadata": {},
   "source": [
    "What is happening `for o in ms: metrics[type(o).__name__] = 0`\n",
    "\n",
    "- The code is using `*ms` parameter to accept an arbitrary number of objects (as positional arguments), and then creating an entry in the `metrics` dictionary for each obj.\n",
    "- The key in the `metrics` dictionary is set to the name of the classs of the object, obtained using the `type(o).__name__` expression, and the value is init. to `0`\n",
    "\n",
    "- In other words, this code is assuming that each obj. passed to the `MetricsCB` callback is an instance of a class, and it is using the name of that class as a key in the `metrics` dictionary. "
   ]
  },
  {
   "cell_type": "markdown",
   "id": "628d4892-d008-40ea-b238-f92ad39de895",
   "metadata": {},
   "source": [
    "what is happening here `x, y, *_ = to_cpu(learn.batch)`?\n",
    "\n",
    "- The line `x, y, *_ = to_cpu(learn.batch)` is using extended iterable unpacking to assign the first two elements of the learn.batch tuple to the variables x and y, and the remaining elements (if any) to the variable `_`."
   ]
  },
  {
   "cell_type": "code",
   "execution_count": 46,
   "id": "9ddd5a50-e424-48b0-a72b-4e67be818840",
   "metadata": {},
   "outputs": [],
   "source": [
    "class MetricsCB(Callback):\n",
    "    def __init__(self, *ms, **metrics):\n",
    "        for o in ms: \n",
    "            metrics[type(o).__name__] = 0\n",
    "        self.metrics = metrics\n",
    "        self.all_metrics = copy(metrics)\n",
    "        self.all_metrics['loss'] = self.loss = Mean()\n",
    "    \n",
    "    def _log(self, d): print(d)\n",
    "    \n",
    "    def before_fit(self, learn): learn.metrics = self\n",
    "    \n",
    "    def before_epoch(self, learn): [o.reset() for o in self.all_metrics.values()]\n",
    "    \n",
    "    def after_epoch(self, learn):\n",
    "        log = {k:f'{v.compute():.3f}' for k,v in self.all_metrics.items()}\n",
    "        log['epoch'] = learn.epoch\n",
    "        log['train'] = 'train' if learn.model.training else 'eval'\n",
    "        self._log(log)\n",
    "    \n",
    "    def after_batch(self, learn):\n",
    "        x, y, *_ = to_cpu(learn.batch)\n",
    "        for m in self.metrics.values():\n",
    "            m.update(to_cpu(learn.preds), y)\n",
    "        self.loss.update(to_cpu(learn.loss), weight=len(x))"
   ]
  },
  {
   "cell_type": "markdown",
   "id": "926dbf34-3c76-4cc0-9f37-f182357049b5",
   "metadata": {},
   "source": [
    "- The `MetricsCB` callback allows you to track multiple metrics during training and evaluation, including the loss. It logs the metrics at the end of each epoch, and it resets the metrics at the beginning of each epoch. \n",
    "\n",
    "- The `_log` method of the `MetricsCB` instance can be overridden to customize the logging behvaior. By default, it prints a dictionary of the metrics and their values at the end of each epoch"
   ]
  },
  {
   "cell_type": "code",
   "execution_count": 47,
   "id": "000a339d-68c0-4f37-b0e0-1b3165bed0b8",
   "metadata": {},
   "outputs": [
    {
     "data": {
      "text/plain": [
       "{'accuracy': <torcheval.metrics.classification.accuracy.MulticlassAccuracy at 0x7fe6d0091160>,\n",
       " 'mean': <torcheval.metrics.aggregation.mean.Mean at 0x7fe6d57d2d00>}"
      ]
     },
     "execution_count": 47,
     "metadata": {},
     "output_type": "execute_result"
    }
   ],
   "source": [
    "metrics_cb = MetricsCB(accuracy=MulticlassAccuracy(), mean=Mean())\n",
    "metrics_cb.metrics"
   ]
  },
  {
   "cell_type": "code",
   "execution_count": 48,
   "id": "e8bf2bc5-0c15-483f-9271-25a25286ed16",
   "metadata": {},
   "outputs": [],
   "source": [
    "class DeviceCB(Callback):\n",
    "    def __init__(self, device=def_device): fc.store_attr()\n",
    "    \n",
    "    def before_fit(self, learn):\n",
    "        if hasattr(learn.model, 'to'): learn.model.to(self.device)\n",
    "    \n",
    "    def before_batch(self, learn):\n",
    "        learn.batch = to_device(learn.batch, device=self.device)"
   ]
  },
  {
   "cell_type": "code",
   "execution_count": 49,
   "id": "ca2eeafd-9413-49eb-9f89-d09e57cc70f5",
   "metadata": {},
   "outputs": [
    {
     "name": "stderr",
     "output_type": "stream",
     "text": [
      "100%|███████████████████████████████████████████| 59/59 [00:12<00:00,  4.78it/s]\n"
     ]
    },
    {
     "name": "stdout",
     "output_type": "stream",
     "text": [
      "{'accuracy': '0.611', 'loss': '1.176', 'epoch': 0, 'train': 'train'}\n"
     ]
    },
    {
     "name": "stderr",
     "output_type": "stream",
     "text": [
      "100%|█████████████████████████████████████████████| 5/5 [00:02<00:00,  2.40it/s]"
     ]
    },
    {
     "name": "stdout",
     "output_type": "stream",
     "text": [
      "{'accuracy': '0.677', 'loss': '0.857', 'epoch': 0, 'train': 'eval'}\n"
     ]
    },
    {
     "name": "stderr",
     "output_type": "stream",
     "text": [
      "\n"
     ]
    }
   ],
   "source": [
    "model = get_model()\n",
    "metrics = MetricsCB(accuracy=MulticlassAccuracy())\n",
    "learn = Learner(model, dls, F.cross_entropy, lr=0.2, cbs=[DeviceCB(), metrics])\n",
    "learn.fit(1)"
   ]
  },
  {
   "cell_type": "markdown",
   "id": "ac87c076-4803-45b9-a173-4dad989c0c0b",
   "metadata": {},
   "source": [
    "# Flexible Learner"
   ]
  },
  {
   "cell_type": "code",
   "execution_count": 50,
   "id": "26dd3e7e-0034-48a2-8a12-d3ffda89547b",
   "metadata": {},
   "outputs": [],
   "source": [
    "class Learner():\n",
    "    def __init__(self, model, dls=(0,), loss_func=F.mse_loss, lr=0.1, cbs=None, opt_func=optim.SGD):\n",
    "        cbs = fc.L(cbs)\n",
    "        fc.store_attr()\n",
    "        \n",
    "    @contextmanager\n",
    "    def cb_ctx(self, nm):\n",
    "        try: \n",
    "            self.callback(f'before_{nm}')\n",
    "            yield\n",
    "            self.callback(f'after_{nm}')\n",
    "        except globals()[f'Cancel{nm.title()}Exception']: pass\n",
    "        finally: self.callback(f'cleanup_{nm}')\n",
    "    \n",
    "    def one_epoch(self, train):\n",
    "        self.model.train(train)\n",
    "        self.dl = self.dls.train if train else self.dls.valid\n",
    "        with self.cb_ctx('epoch'):\n",
    "            for self.iter, self.batch in enumerate(self.dl):\n",
    "                with self.cb_ctx('batch'):\n",
    "                    self.predict()\n",
    "                    self.get_loss()\n",
    "                    if self.training:\n",
    "                        self.backward()\n",
    "                        self.step()\n",
    "                        self.zero_grad()\n",
    "    \n",
    "    def fit(self, n_epochs=1, train=True, valid=True, cbs=None, lr=None):\n",
    "        cbs = fc.L(cbs)\n",
    "        \n",
    "        for cb in cbs: self.cbs.append(cb)\n",
    "        \n",
    "        try:\n",
    "            self.n_epochs = n_epochs\n",
    "            self.epochs = range(n_epochs)\n",
    "            self.opt = self.opt_func(self.model.parameters(), self.lr if lr is None else lr)\n",
    "            with self.cb_ctx('fit'):\n",
    "                for self.epoch in self.epochs:\n",
    "                    if train: self.one_epoch(True)\n",
    "                    if valid: torch.no_grad()(self.one_epoch)(False)\n",
    "        finally:\n",
    "            for cb in cbs:\n",
    "                self.cbs.remove(cb)\n",
    "        \n",
    "    def __getattr__(self, name):\n",
    "        if name in ('predict', 'get_loss', 'backward', 'step', 'zero_grad'): return partial(self.callback, name)\n",
    "        raise AttributeError(name)\n",
    "    \n",
    "    def callback(self, method_nm): run_cbs(self.cbs, method_nm, self)\n",
    "\n",
    "    @property\n",
    "    def training(self):\n",
    "        return self.model.training    "
   ]
  },
  {
   "cell_type": "markdown",
   "id": "39bf16a7-e7d3-4db1-8737-7f5c7e1c2f57",
   "metadata": {},
   "source": [
    "We don't have the following `('predict', 'get_loss', 'backward', 'step', 'zero_grad')` in our `Learner` class, however, we can use `Callback` to add these functionalities"
   ]
  },
  {
   "cell_type": "code",
   "execution_count": 51,
   "id": "e572d797-6c07-413a-99d1-8e16bb90af07",
   "metadata": {},
   "outputs": [],
   "source": [
    "#|export\n",
    "class TrainCB(Callback):\n",
    "    def __init__(self, n_inp=1): self.n_inp = n_inp\n",
    "    def predict(self, learn): learn.preds = learn.model(*learn.batch[:self.n_inp])\n",
    "    def get_loss(self, learn): learn.loss = learn.loss_func(learn.preds, *learn.batch[self.n_inp:])\n",
    "    def backward(self, learn): learn.loss.backward()\n",
    "    def step(self, learn): learn.opt.step()\n",
    "    def zero_grad(self, learn): learn.opt.zero_grad()"
   ]
  },
  {
   "cell_type": "code",
   "execution_count": 52,
   "id": "9b216bd9-c923-4954-b240-a49e130cf42e",
   "metadata": {},
   "outputs": [],
   "source": [
    "class Learner():\n",
    "    def __init__(self, model, dls=(0,), loss_func=F.mse_loss, lr=0.1, cbs=None, opt_func=optim.SGD):\n",
    "        cbs = fc.L(cbs)\n",
    "        fc.store_attr()\n",
    "    \n",
    "    @contextmanager\n",
    "    def cb_ctx(self, nm):\n",
    "        try:\n",
    "            self.callback(f'before_{nm}')\n",
    "            yield\n",
    "            self.callback(f'after_{nm}')\n",
    "        except globals()[f'Cancel{nm.title()}Exception']: pass\n",
    "        finally: self.callback(f'cleanup_{nm}')\n",
    "    \n",
    "    def one_epoch(self, train):\n",
    "        self.model.train(train)\n",
    "        self.dl = self.dls.train if train else self.dls.valid\n",
    "        with self.cb_ctx('epoch'):\n",
    "            for self.iter, self.batch in enumerate(self.dl):\n",
    "                with self.cb_ctx('batch'):\n",
    "                    self.predict()\n",
    "                    self.get_loss()\n",
    "                    if self.training:\n",
    "                        self.backward()\n",
    "                        self.step()\n",
    "                        self.zero_grad()\n",
    "                        \n",
    "    def fit(self, n_epochs=1, train=True, valid=True, cbs=None, lr=None):\n",
    "        cbs = fc.L(cbs)\n",
    "        \n",
    "        for cb in cbs: self.cbs.append(cb)\n",
    "        \n",
    "        try:\n",
    "            self.n_epochs = n_epochs\n",
    "            self.epochs = range(n_epochs)\n",
    "            self.opt = self.opt_func(self.model.parameters(), self.lr if lr is None else lr)\n",
    "            with self.cb_ctx('fit'):\n",
    "                for self.epoch in self.epochs:\n",
    "                    if train: self.one_epoch(True)\n",
    "                    if valid: torch.no_grad()(self.one_epoch)(False)\n",
    "        finally:\n",
    "            for cb in cbs:\n",
    "                self.cbs.remove(cb)\n",
    "    \n",
    "    def __getattr__(self, name):\n",
    "        if name in ('predict','get_loss','backward','step','zero_grad'): return partial(self.callback, name)\n",
    "        raise AttributeError(name)\n",
    "    \n",
    "    def callback(self, method_nm): run_cbs(self.cbs, method_nm, self)\n",
    "\n",
    "    @property\n",
    "    def training(self): return self.model.training"
   ]
  },
  {
   "cell_type": "code",
   "execution_count": 55,
   "id": "c886f8f0-3c2e-4b58-8f00-d5f8564e337c",
   "metadata": {},
   "outputs": [],
   "source": [
    "#|export\n",
    "class ProgressCB(Callback):\n",
    "    order = MetricsCB.order+1\n",
    "    def __init__(self, plot=False): self.plot = plot\n",
    "    def before_fit(self, learn):\n",
    "        learn.epochs = self.mbar = master_bar(learn.epochs)\n",
    "        self.first = True\n",
    "        if hasattr(learn, 'metrics'): learn.metrics._log = self._log\n",
    "        self.losses = []\n",
    "\n",
    "    def _log(self, d):\n",
    "        if self.first:\n",
    "            self.mbar.write(list(d), table=True)\n",
    "            self.first = False\n",
    "        self.mbar.write(list(d.values()), table=True)\n",
    "\n",
    "    def before_epoch(self, learn): learn.dl = progress_bar(learn.dl, leave=False, parent=self.mbar)\n",
    "    def after_batch(self, learn):\n",
    "        learn.dl.comment = f'{learn.loss:.3f}'\n",
    "        if self.plot and hasattr(learn, 'metrics') and learn.training:\n",
    "            self.losses.append(learn.loss.item())\n",
    "            self.mbar.update_graph([[fc.L.range(self.losses), self.losses]])"
   ]
  },
  {
   "cell_type": "code",
   "execution_count": 56,
   "id": "92115fcd-7241-4cd5-ac52-c7872212b759",
   "metadata": {},
   "outputs": [],
   "source": [
    "model = get_model()"
   ]
  },
  {
   "cell_type": "code",
   "execution_count": 57,
   "id": "fda96c69-6151-4a2a-8126-b1e9bcce6447",
   "metadata": {},
   "outputs": [
    {
     "data": {
      "text/html": [
       "\n",
       "<style>\n",
       "    /* Turns off some styling */\n",
       "    progress {\n",
       "        /* gets rid of default border in Firefox and Opera. */\n",
       "        border: none;\n",
       "        /* Needs to be in here for Safari polyfill so background images work as expected. */\n",
       "        background-size: auto;\n",
       "    }\n",
       "    progress:not([value]), progress:not([value])::-webkit-progress-bar {\n",
       "        background: repeating-linear-gradient(45deg, #7e7e7e, #7e7e7e 10px, #5c5c5c 10px, #5c5c5c 20px);\n",
       "    }\n",
       "    .progress-bar-interrupted, .progress-bar-interrupted::-webkit-progress-bar {\n",
       "        background: #F44336;\n",
       "    }\n",
       "</style>\n"
      ],
      "text/plain": [
       "<IPython.core.display.HTML object>"
      ]
     },
     "metadata": {},
     "output_type": "display_data"
    },
    {
     "data": {
      "text/html": [
       "<table border=\"1\" class=\"dataframe\">\n",
       "  <thead>\n",
       "    <tr style=\"text-align: left;\">\n",
       "      <th>accuracy</th>\n",
       "      <th>loss</th>\n",
       "      <th>epoch</th>\n",
       "      <th>train</th>\n",
       "    </tr>\n",
       "  </thead>\n",
       "  <tbody>\n",
       "    <tr>\n",
       "      <td>0.616</td>\n",
       "      <td>1.168</td>\n",
       "      <td>0</td>\n",
       "      <td>train</td>\n",
       "    </tr>\n",
       "    <tr>\n",
       "      <td>0.719</td>\n",
       "      <td>0.789</td>\n",
       "      <td>0</td>\n",
       "      <td>eval</td>\n",
       "    </tr>\n",
       "  </tbody>\n",
       "</table>"
      ],
      "text/plain": [
       "<IPython.core.display.HTML object>"
      ]
     },
     "metadata": {},
     "output_type": "display_data"
    },
    {
     "data": {
      "image/png": "[encoded data removed]",
      "text/plain": [
       "<Figure size 432x288 with 1 Axes>"
      ]
     },
     "metadata": {},
     "output_type": "display_data"
    }
   ],
   "source": [
    "metrics = MetricsCB(accuracy=MulticlassAccuracy())\n",
    "cbs = [TrainCB(), DeviceCB(), metrics, ProgressCB(plot=True)]\n",
    "learn = Learner(model, dls, F.cross_entropy, lr=0.2, cbs=cbs)\n",
    "learn.fit(1)"
   ]
  },
  {
   "cell_type": "markdown",
   "id": "97b31c82-d072-41ba-8807-a1d889def8f5",
   "metadata": {},
   "source": [
    "# Updated versions since the lesson"
   ]
  },
  {
   "cell_type": "markdown",
   "id": "2655027a-7fce-4266-8008-2322f27951c8",
   "metadata": {},
   "source": []
  },
  {
   "cell_type": "code",
   "execution_count": 58,
   "id": "b1906e7d-e9a8-43ef-9602-91db7e686652",
   "metadata": {},
   "outputs": [],
   "source": [
    "class with_cbs:\n",
    "    def __init__(self, nm): self.nm = nm\n",
    "    def __call__(self, f):\n",
    "        def _f(o, *args, **kwargs):\n",
    "            try:\n",
    "                o.callback(f'before_{self.nm}')\n",
    "                f(o, *args, **kwargs)\n",
    "                o.callback(f'after_{self.nm}')\n",
    "            except globals()[f'Cancel{self.nm.title()}Exception']: pass\n",
    "            finally: o.callback(f'cleanup_{self.nm}')\n",
    "        return _f"
   ]
  },
  {
   "cell_type": "code",
   "execution_count": 59,
   "id": "f2517d82-1bbc-4236-821d-de8790edb623",
   "metadata": {},
   "outputs": [],
   "source": [
    "class Learner():\n",
    "    def __init__(self, model, dls=(0,), loss_func=F.mse_loss, lr=0.1, cbs=None, opt_func=optim.SGD):\n",
    "        cbs = fc.L(cbs)\n",
    "        fc.store_attr()\n",
    "    \n",
    "    @with_cbs('batch')\n",
    "    def _one_batch(self):\n",
    "        self.predict()\n",
    "        self.callback('after_predict')\n",
    "        self.get_loss()\n",
    "        self.callback('after_loss')\n",
    "        if self.training:\n",
    "            self.backward()\n",
    "            self.callback('after_backward')\n",
    "            self.step()\n",
    "            self.callback('after_step')\n",
    "            self.zero_grad()\n",
    "        \n",
    "    @with_cbs('epoch')\n",
    "    def _one_epoch(self):\n",
    "        for self.iter, self.batch in enumerate(self.dl): self._one_batch()\n",
    "    \n",
    "    def one_epoch(self, training):\n",
    "        self.model.train(training)\n",
    "        self.dl = self.dls.train if training else self.dls.valid\n",
    "        self._one_epoch()\n",
    "    \n",
    "    @with_cbs('fit')\n",
    "    def _fit(self, train, valid):\n",
    "        for self.epoch in self.epochs:\n",
    "            if train: self.one_epoch(True)\n",
    "            if valid: torch.no_grad()(self.one_epoch)(False)\n",
    "        \n",
    "    def fit(self, n_epochs=1, train=True, valid=True, cbs=None, lr=None):\n",
    "        cbs = fc.L(cbs)\n",
    "        for cb in cbs: self.cbs.append(cb)\n",
    "        try:\n",
    "            self.n_epochs = n_epochs\n",
    "            self.epochs = range(n_epochs)\n",
    "            if lr is None: lr = self.lr\n",
    "            if self.opt_func: self.opt = self.opt_func(self.model.parameters(), lr)\n",
    "            self._fit(train, valid)\n",
    "        finally:\n",
    "            for cb in cbs: self.cbs.remove(cb)\n",
    "    \n",
    "    def __getattr__(self, name):\n",
    "        if name in ('predict', 'get_loss', 'backward', 'step', 'zero_grad'): return partial(self.callback, name)\n",
    "        raise AttributeError(name)\n",
    "    \n",
    "    def callback(self, method_nm): run_cbs(self.cbs, method_nm, self)\n",
    "\n",
    "    @property\n",
    "    def training(self): return self.model.training"
   ]
  },
  {
   "cell_type": "code",
   "execution_count": 60,
   "id": "d7ccfac0-253c-4415-bb5c-7dd8c71d4b4c",
   "metadata": {},
   "outputs": [
    {
     "data": {
      "text/html": [
       "\n",
       "<style>\n",
       "    /* Turns off some styling */\n",
       "    progress {\n",
       "        /* gets rid of default border in Firefox and Opera. */\n",
       "        border: none;\n",
       "        /* Needs to be in here for Safari polyfill so background images work as expected. */\n",
       "        background-size: auto;\n",
       "    }\n",
       "    progress:not([value]), progress:not([value])::-webkit-progress-bar {\n",
       "        background: repeating-linear-gradient(45deg, #7e7e7e, #7e7e7e 10px, #5c5c5c 10px, #5c5c5c 20px);\n",
       "    }\n",
       "    .progress-bar-interrupted, .progress-bar-interrupted::-webkit-progress-bar {\n",
       "        background: #F44336;\n",
       "    }\n",
       "</style>\n"
      ],
      "text/plain": [
       "<IPython.core.display.HTML object>"
      ]
     },
     "metadata": {},
     "output_type": "display_data"
    },
    {
     "data": {
      "text/html": [
       "<table border=\"1\" class=\"dataframe\">\n",
       "  <thead>\n",
       "    <tr style=\"text-align: left;\">\n",
       "      <th>accuracy</th>\n",
       "      <th>loss</th>\n",
       "      <th>epoch</th>\n",
       "      <th>train</th>\n",
       "    </tr>\n",
       "  </thead>\n",
       "  <tbody>\n",
       "    <tr>\n",
       "      <td>0.607</td>\n",
       "      <td>1.183</td>\n",
       "      <td>0</td>\n",
       "      <td>train</td>\n",
       "    </tr>\n",
       "    <tr>\n",
       "      <td>0.712</td>\n",
       "      <td>0.787</td>\n",
       "      <td>0</td>\n",
       "      <td>eval</td>\n",
       "    </tr>\n",
       "  </tbody>\n",
       "</table>"
      ],
      "text/plain": [
       "<IPython.core.display.HTML object>"
      ]
     },
     "metadata": {},
     "output_type": "display_data"
    },
    {
     "data": {
      "image/png": "[encoded data removed]",
      "text/plain": [
       "<Figure size 432x288 with 1 Axes>"
      ]
     },
     "metadata": {},
     "output_type": "display_data"
    }
   ],
   "source": [
    "model = get_model()\n",
    "\n",
    "metrics = MetricsCB(accuracy=MulticlassAccuracy())\n",
    "cbs = [TrainCB(), DeviceCB(), metrics, ProgressCB(plot=True)]\n",
    "learn = Learner(model, dls, F.cross_entropy, lr=0.2, cbs=cbs)\n",
    "learn.fit(1)"
   ]
  },
  {
   "cell_type": "markdown",
   "id": "ce7a2b07-ff17-4484-a39c-9a8168bdc8df",
   "metadata": {},
   "source": [
    "# TrainLearner and MomentumLearner"
   ]
  },
  {
   "cell_type": "code",
   "execution_count": 61,
   "id": "eb24ac99-b4a1-4eb1-9307-513ee8523c55",
   "metadata": {},
   "outputs": [],
   "source": [
    "class TrainLearner(Learner):\n",
    "    def predict(self): self.preds = self.model(self.batch[0])\n",
    "    def get_loss(self): self.loss = self.loss_func(self.preds, self.batch[1])\n",
    "    def backward(self): self.loss.backward()\n",
    "    def step(self): self.opt.step()\n",
    "    def zero_grad(self): self.opt.zero_grad()"
   ]
  },
  {
   "cell_type": "code",
   "execution_count": 62,
   "id": "39f1043b-9d61-4672-bfcd-2fdae924b8bd",
   "metadata": {},
   "outputs": [],
   "source": [
    "class MomentumLearner(TrainLearner):\n",
    "    def __init__(self, model, dls, loss_func, lr=None, cbs=None, opt_func=optim.SGD, mom=0.85):\n",
    "        self.mom = mom\n",
    "        super().__init__(model, dls, loss_func, lr, cbs, opt_func)\n",
    "    \n",
    "    def zero_grad(self):\n",
    "        with torch.no_grad():\n",
    "            for p in self.model.parameters(): p.grad *= self.mom"
   ]
  },
  {
   "cell_type": "code",
   "execution_count": 63,
   "id": "e41ca1f1-8be4-4362-9a66-1f40d40cb20a",
   "metadata": {},
   "outputs": [
    {
     "data": {
      "text/html": [
       "\n",
       "<style>\n",
       "    /* Turns off some styling */\n",
       "    progress {\n",
       "        /* gets rid of default border in Firefox and Opera. */\n",
       "        border: none;\n",
       "        /* Needs to be in here for Safari polyfill so background images work as expected. */\n",
       "        background-size: auto;\n",
       "    }\n",
       "    progress:not([value]), progress:not([value])::-webkit-progress-bar {\n",
       "        background: repeating-linear-gradient(45deg, #7e7e7e, #7e7e7e 10px, #5c5c5c 10px, #5c5c5c 20px);\n",
       "    }\n",
       "    .progress-bar-interrupted, .progress-bar-interrupted::-webkit-progress-bar {\n",
       "        background: #F44336;\n",
       "    }\n",
       "</style>\n"
      ],
      "text/plain": [
       "<IPython.core.display.HTML object>"
      ]
     },
     "metadata": {},
     "output_type": "display_data"
    },
    {
     "data": {
      "text/html": [
       "<table border=\"1\" class=\"dataframe\">\n",
       "  <thead>\n",
       "    <tr style=\"text-align: left;\">\n",
       "      <th>accuracy</th>\n",
       "      <th>loss</th>\n",
       "      <th>epoch</th>\n",
       "      <th>train</th>\n",
       "    </tr>\n",
       "  </thead>\n",
       "  <tbody>\n",
       "    <tr>\n",
       "      <td>0.662</td>\n",
       "      <td>0.942</td>\n",
       "      <td>0</td>\n",
       "      <td>train</td>\n",
       "    </tr>\n",
       "    <tr>\n",
       "      <td>0.796</td>\n",
       "      <td>0.589</td>\n",
       "      <td>0</td>\n",
       "      <td>eval</td>\n",
       "    </tr>\n",
       "  </tbody>\n",
       "</table>"
      ],
      "text/plain": [
       "<IPython.core.display.HTML object>"
      ]
     },
     "metadata": {},
     "output_type": "display_data"
    },
    {
     "data": {
      "image/png": "[encoded data removed]",
      "text/plain": [
       "<Figure size 432x288 with 1 Axes>"
      ]
     },
     "metadata": {},
     "output_type": "display_data"
    }
   ],
   "source": [
    "metrics = MetricsCB(accuracy=MulticlassAccuracy())\n",
    "cbs = [DeviceCB(), metrics, ProgressCB(plot=True)]\n",
    "learn = MomentumLearner(get_model(), dls, F.cross_entropy, lr=0.1, cbs=cbs)\n",
    "learn.fit(1)"
   ]
  },
  {
   "cell_type": "markdown",
   "id": "ee93eec1-486e-437e-ad18-d4a310f4b63b",
   "metadata": {},
   "source": [
    "# LRFinderCB"
   ]
  },
  {
   "cell_type": "code",
   "execution_count": 64,
   "id": "b13fc253-cfc4-40dc-aa0e-30657deff51a",
   "metadata": {},
   "outputs": [],
   "source": [
    "class LRFinderCB(Callback):\n",
    "    def __init__(self, lr_mult=1.3):\n",
    "        fc.store_attr()\n",
    "    \n",
    "    def before_fit(self, learn):\n",
    "        self.lrs, self.losses = [], []\n",
    "        self.min = math.inf\n",
    "    \n",
    "    def after_batch(self, learn):\n",
    "        if not learn.training: raise CancelEpochException()\n",
    "        self.lrs.append(learn.opt.param_groups[0]['lr'])\n",
    "        loss = to_cpu(learn.loss)\n",
    "        self.losses.append(loss)\n",
    "        if loss < self.min: self.min = loss\n",
    "        if loss > self.min*3: raise CancelFitException()\n",
    "        for g in learn.opt.param_groups: g['lr'] *= self.lr_mult"
   ]
  },
  {
   "cell_type": "code",
   "execution_count": 65,
   "id": "48eccc0f-ef39-4be9-964d-4698041df060",
   "metadata": {},
   "outputs": [
    {
     "data": {
      "image/png": "[encoded data removed]",
      "text/plain": [
       "<Figure size 432x288 with 1 Axes>"
      ]
     },
     "metadata": {
      "needs_background": "light"
     },
     "output_type": "display_data"
    }
   ],
   "source": [
    "lrfind = LRFinderCB()\n",
    "cbs = [DeviceCB(), lrfind]\n",
    "learn = MomentumLearner(get_model(), dls, F.cross_entropy, lr=1e-4, cbs=cbs)\n",
    "learn.fit(1)\n",
    "plt.plot(lrfind.lrs, lrfind.losses)\n",
    "plt.xscale('log')"
   ]
  },
  {
   "cell_type": "code",
   "execution_count": 66,
   "id": "8692cd07-c4c8-4547-a2e2-9c79422b1e9e",
   "metadata": {},
   "outputs": [],
   "source": [
    "from torch.optim.lr_scheduler import ExponentialLR"
   ]
  },
  {
   "cell_type": "code",
   "execution_count": 67,
   "id": "5511b2a5-60f8-417e-8232-2547f8e33177",
   "metadata": {},
   "outputs": [],
   "source": [
    "class LRFinderCB(Callback):\n",
    "    def __init__(self, gamma=1.3, max_mult=3): fc.store_attr()\n",
    "    \n",
    "    def before_fit(self, learn):\n",
    "        self.sched = ExponentialLR(learn.opt, self.gamma)\n",
    "        self.lrs,self.losses = [],[]\n",
    "        self.min = math.inf\n",
    "\n",
    "    def after_batch(self, learn):\n",
    "        if not learn.training: raise CancelEpochException()\n",
    "        self.lrs.append(learn.opt.param_groups[0]['lr'])\n",
    "        loss = to_cpu(learn.loss)\n",
    "        self.losses.append(loss)\n",
    "        if loss < self.min: self.min = loss\n",
    "        if math.isnan(loss) or (loss > self.min*self.max_mult):\n",
    "            raise CancelFitException()\n",
    "        self.sched.step()\n",
    "\n",
    "    def cleanup_fit(self, learn):\n",
    "        plt.plot(self.lrs, self.losses)\n",
    "        plt.xscale('log')"
   ]
  },
  {
   "cell_type": "code",
   "execution_count": 68,
   "id": "cc59755c-04a4-45e1-a793-9f5f59a424ca",
   "metadata": {},
   "outputs": [
    {
     "data": {
      "image/png": "[encoded data removed]",
      "text/plain": [
       "<Figure size 432x288 with 1 Axes>"
      ]
     },
     "metadata": {
      "needs_background": "light"
     },
     "output_type": "display_data"
    }
   ],
   "source": [
    "cbs = [DeviceCB()]\n",
    "learn = MomentumLearner(get_model(), dls, F.cross_entropy, lr=1e-5, cbs=cbs)\n",
    "learn.fit(3, cbs=LRFinderCB())"
   ]
  },
  {
   "cell_type": "code",
   "execution_count": 69,
   "id": "cbcdd8bf-6d58-494c-8aec-60f27389084b",
   "metadata": {},
   "outputs": [],
   "source": [
    "@fc.patch\n",
    "def lr_find(self:Learner, gamma=1.3, max_mult=3, start_lr=1e-5, max_epochs=10):\n",
    "    self.fit(max_epochs, lr=start_lr, cbs=LRFinderCB(gamma=gamma, max_mult=max_mult))"
   ]
  },
  {
   "cell_type": "code",
   "execution_count": 70,
   "id": "b89dd775-03aa-414c-82f0-448b522533d3",
   "metadata": {},
   "outputs": [
    {
     "data": {
      "image/png": "[encoded data removed]",
      "text/plain": [
       "<Figure size 432x288 with 1 Axes>"
      ]
     },
     "metadata": {
      "needs_background": "light"
     },
     "output_type": "display_data"
    }
   ],
   "source": [
    "MomentumLearner(get_model(), dls, F.cross_entropy, cbs=cbs).lr_find()"
   ]
  },
  {
   "cell_type": "code",
   "execution_count": null,
   "id": "1f9df24b-fb02-4ec7-b3a1-9c6215191fac",
   "metadata": {},
   "outputs": [],
   "source": []
  }
 ],
 "metadata": {
  "kernelspec": {
   "display_name": "Python 3 (ipykernel)",
   "language": "python",
   "name": "python3"
  },
  "language_info": {
   "codemirror_mode": {
    "name": "ipython",
    "version": 3
   },
   "file_extension": ".py",
   "mimetype": "text/x-python",
   "name": "python",
   "nbconvert_exporter": "python",
   "pygments_lexer": "ipython3",
   "version": "3.9.13"
  }
 },
 "nbformat": 4,
 "nbformat_minor": 5
}
